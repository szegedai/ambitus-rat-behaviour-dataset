# Import core libraries for data handling and visualization
import pandas as pd
import matplotlib.pyplot as plt
import seaborn as sns
import numpy as np

# System and warning configuration
import os
import warnings
warnings.filterwarnings('ignore')  # Hide warnings for cleaner output
os.environ["KMP_DUPLICATE_LIB_OK"] = "TRUE" # Prevent MKL duplication error (especially on Mac)





#Helper functions

def plot_violin_gen(data, col, gen = 1):
    """Shows the distribution of the specified column and generation by Sex

    Args:
        data (pd.DataFrame): Data to plot from
        col (str): Column to plot distribution
        gen (int, optional): Generation to filter by. Defaults to 1.
    """
    if data[col].dtype == 'object':
        raise ValueError(f"Column '{col}' must be numeric to plot grouped means.")

    df_cpy = data.loc[data['Generation'] == gen, [col, 'Sex']].copy()
    sns.violinplot(df_cpy, y=col, hue='Sex')
    plt.title(f'Distribution of {col} for Generation {gen}', fontsize=16)
    plt.show()


def plot_grouped(data, col, divide_by_group = True):
    """Plots grouped mean valuesa as bar plots through generations

    Args:
        data (pd.DataFrame): Data to plot from
        col (str): Column to plot grouped bar plots for
        divide_by_group (bool): Defaults to True. Determines to plot by Sex or by Group.
    """

    if data[col].dtype == 'object':
        raise ValueError(f"Column '{col}' must be numeric to plot grouped means.")

    divider = 'Group' if divide_by_group else 'Sex'
    df_cpy = data[['Generation', divider, col]].copy()
    df_cpy = df_cpy.groupby(['Generation', divider])[col].mean().reset_index()
    sns.barplot(df_cpy, x='Generation', y=col, hue=divider)
    plt.title(f'Average {col} by Generation and {divider}', fontsize=16)
    plt.show()






# Define global parameters for filtering, exclusion, and reproducibility
params = { 
    'for_ml' : '../processed/ambitus_0_15_ml_ready_29_07_2025.csv', # Path to preprocessed ML-ready data
    'raw_data': "../raw/ambitus_0_15_log_29_07_2025.parquet",
    'str_cols' : ['Group', 'Sex', 'Season'], # Categorical string columns
    'not_for_ml' : ['Group', 'Sex', 'Season', 'NR', 'Year', 'Paradigm', 'id', 'Generation'], # Columns excluded from modeling
    'not_corr_cols' : ['Group', 'Sex', 'Season', 'NR', 'Year', 'Paradigm', 'id', 'Generation', 'Group'], # Excluded from correlation
    'generation_cut' : 13, # Upper limit for training/test split
    'generation_under_cut' : 6, # Lower limit for training data
    'seed' : 42 # Seed for reproducibility
}





# set the data path
file_path = params['raw_data']
# load the data into a DataFrame
df = pd.read_parquet(file_path)
df['GR_Sex'] = df['GR_Sex'].str.lower()
df['Sex'] = df['Sex'].str.lower()





# Drop categorical / identifier columns that are not behavioral features
exclude_keywords = ['id', 'group', 'sex', 'trial', 'year', 'gen', 'rat', 'animal']
exclude_columns = [col for col in df.columns if any(key in col.lower() for key in exclude_keywords)]
df_filtered = df.drop(columns=exclude_columns, errors='ignore')

# Keep only numeric columns
df_numeric = df_filtered.select_dtypes(include='number')

# Drop columns with constant values or near-zero variance
df_numeric = df_numeric.loc[:, df_numeric.std() > 0.01]

# Select top 30 variables by standard deviation
top30_columns = df_numeric.std().sort_values(ascending=False).head(30).index
df_top30 = df_numeric[top30_columns]

# Plot the correlation result

plt.figure(figsize=(8, 6))
sns.heatmap(df_top30.corr(), cmap="coolwarm", center=0, annot=False, fmt=".2f", linewidths=1)
plt.title("Correlation Matrix – Top 30 Behavioral Features", fontsize=16)
# show figure
plt.show()





# Drop rows with missing values in Group_Sex or Year
df_clean = df.dropna(subset=['GR_Sex', 'Year'])

# Standardize Group_Sex values to lowercase
df_clean['Group_Sex'] = df_clean['GR_Sex'].str.lower()





# Define same 6 features with new group-based color style
features = {
    'LOCO_TOT': 'Total Locomotion',
    'Expl_E_I_TOT_Loco_ratio': 'Total Exploration',
    'LOCO_BEF': 'Locomotion Before Reward Collection',
    'Expl_E_I_BEF_Nr': 'Exploration Before Reward Collection',
    'L_C': 'Learning Capacity',
    'E_E': 'Effective Exploration'
}

# Color palette for groups in a color version
color_palette = {
    'le_male': '#1f77b4',
    'le_female': '#aec7e8',
    'lisket_male': '#ff7f0e',
    'lisket_female': '#ffbb78'
}
plot_groups = list(color_palette.keys())

# Prepare figure
fig, axes = plt.subplots(2, 3, figsize=(15, 8))
axes = axes.flatten()

# Draw color version of 6 feature-wise plots
for ax, (feature, title) in zip(axes, features.items()):
    summary = df_clean.groupby(['Year', 'Group_Sex'])[feature].agg(['mean', 'std']).reset_index()
    years = sorted(df_clean['Year'].dropna().unique())
    width = 0.15

    for i, group in enumerate(plot_groups):
        group_data = summary[summary['Group_Sex'] == group]
        x = np.array(group_data['Year']) + (i - 1.5) * width
        ax.bar(x, group_data['mean'], width=width,
               yerr=group_data['std'], capsize=2,
               color=color_palette[group],
               edgecolor='black', label=group)
    ax.set_title(title)
    ax.set_xlabel("Year")
    ax.set_ylabel("Mean ± SD")
    ax.set_xticks(years)
    ax.set_xticklabels(years)
    ax.set_ylim(bottom=0)
    ax.grid(axis='y', linestyle='--', linewidth=0.5)

axes[-1].legend(title="Group_Sex", bbox_to_anchor=(1.05, 1), loc='upper left')
plt.tight_layout()
plt.show()






# Filter out rows with missing Sex, Year, or Group
df_filtered = df.dropna(subset=["Sex", "Year", "Group"])
df_filtered = df_filtered.drop_duplicates(subset=["Year", "Generation", "Group", "Sex","NR"])

# Count animals by Year, Group, and Sex
grouped = df_filtered.groupby(["Year", "Generation", "Group", "Sex"]).size().unstack(fill_value=0)

# Rename columns to match the template
grouped = grouped.rename(columns={"male": "Nr animals Male", "female": "Nr animals Female"})

# Add total animal count
grouped["Nr animals"] = grouped["Nr animals Male"] + grouped["Nr animals Female"]

# Reset index to flatten DataFrame
summary_df = grouped.reset_index()


summary_df





#Plotting the mean value through the generations and by Sexs
#Readading the data
data = pd.read_csv(params['for_ml'])
plot_grouped(data, 'Expl_E_I_TOT_Loco_ratio_4')








plot_violin_gen(data, 'EAT_E_%', 4)





# Ensure 'Generation' is treated as numeric
data['Generation'] = pd.to_numeric(data['Generation'])
# Plot the distribution of Group labels across generations
ax = sns.histplot(data, x='Generation', multiple='dodge', hue='Group', shrink= 0.7, discrete = True, binwidth=0.5)
# ax.bar_label(ax.containers[0], label_type='edge', fontsize=8)
# ax.bar_label(ax.containers[1], label_type='edge', fontsize=8)
ax.set_xticks(range(0, 16))
plt.title('Distribution of Group by Generation', fontsize=16)
plt.show()

#Group label distribution over all generations
ax = sns.histplot(data, x='Group', hue='Group')
ax.bar_label(ax.containers[0], label_type='edge', fontsize=8)
ax.bar_label(ax.containers[1], label_type='edge', fontsize=8)
plt.title('Distribution of Group', fontsize=16)
plt.show()



