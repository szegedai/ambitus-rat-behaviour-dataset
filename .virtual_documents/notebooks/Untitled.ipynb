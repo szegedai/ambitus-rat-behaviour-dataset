import pandas as pd



df_raw = pd.read_excel("../raw/LE_Lisket_0_15_AMBI_DEF_2.xlsx")


df_raw = df_raw.iloc[1:,:]
df_raw


# Define the path to the raw data file (Parquet format)
file_path = "../raw/ambitus_0_15_log_24_07_2025.parquet"
# load the data into a DataFrame
df = pd.read_parquet(file_path)


df.rename(columns = {'Gender':'Sex', 'GR_Gender':'GR_Sex'},inplace=True)


df.drop(columns =['First_Box location','Skipping'], inplace=True)
df


df_raw['Year'] = df_raw['Year'].astype(int)


df = pd.merge(df, df_raw.loc[:,['Animal','Year','NR','First_Box location','Skipping']], on = ['Animal','Year','NR'],how='left')


# Define the path to the raw data file (Parquet format)
file_path = "../raw/ambitus_0_15_log_29_07_2025.parquet"
# load the data into a DataFrame
df.to_parquet(file_path, engine='pyarrow')


df.loc[df['First_Box location'].isna(),:].shape



df.loc[df['Skipping'].isna(),:].shape



